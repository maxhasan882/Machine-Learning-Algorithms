{
 "cells": [
  {
   "cell_type": "markdown",
   "metadata": {},
   "source": [
    "<h1 style=\"text-align: center; color:red\">Simple Linear Regression</h1>"
   ]
  },
  {
   "cell_type": "markdown",
   "metadata": {},
   "source": [
    "<h3>Import Library</h3>"
   ]
  },
  {
   "cell_type": "code",
   "execution_count": 59,
   "metadata": {},
   "outputs": [],
   "source": [
    "import pandas as pd\n",
    "import csv\n",
    "import matplotlib.pyplot as plt"
   ]
  },
  {
   "cell_type": "markdown",
   "metadata": {},
   "source": [
    "<h3>Import Dataset</h3>"
   ]
  },
  {
   "cell_type": "code",
   "execution_count": null,
   "metadata": {},
   "outputs": [],
   "source": [
    "data = pd.read_csv('data.csv')"
   ]
  },
  {
   "cell_type": "markdown",
   "metadata": {},
   "source": [
    "<h3>Devide Dataset</h3>"
   ]
  },
  {
   "cell_type": "code",
   "execution_count": 5,
   "metadata": {},
   "outputs": [],
   "source": [
    "X = data.iloc[:,:1]\n",
    "Y = data.iloc[:,1:]\n",
    "X_train = X.iloc[:140]\n",
    "X_test = X.iloc[140:]\n",
    "Y_train = Y.iloc[:140]\n",
    "Y_test = Y.iloc[140:]"
   ]
  },
  {
   "cell_type": "markdown",
   "metadata": {},
   "source": [
    "<h3>Mathmetical Calculation</h3>"
   ]
  },
  {
   "cell_type": "code",
   "execution_count": 36,
   "metadata": {},
   "outputs": [],
   "source": [
    "len = X_train.shape[0]\n",
    "X_train_sum = 0\n",
    "Y_train_sum = 0\n",
    "XY_Train_sum = 0\n",
    "X_squre_train_sum = 0\n",
    "\n",
    "for i in range(len):\n",
    "    X_train_sum+=X_train.iloc[i,0]\n",
    "    Y_train_sum+=Y_train.iloc[i,0]\n",
    "    XY_Train_sum+=X_train.iloc[i,0]*Y_train.iloc[i,0]\n",
    "    X_squre_train_sum+=(X_train.iloc[i,0]**2)\n",
    "    \n",
    "\n",
    "X_train_avg = X_train_sum/len\n",
    "Y_train_avg = Y_train_sum/len\n",
    "XY_Train_avg = XY_Train_sum/len\n",
    "X_squre_train_avg = X_squre_train_sum/len"
   ]
  },
  {
   "cell_type": "markdown",
   "metadata": {},
   "source": [
    "<h3>Slop and Intercept Calculation</h3>"
   ]
  },
  {
   "cell_type": "code",
   "execution_count": 86,
   "metadata": {},
   "outputs": [],
   "source": [
    "m = ((X_train_avg*Y_train_avg)-XY_Train_avg)/(X_train_avg**2-X_squre_train_avg)\n",
    "c = Y_train_avg - m*X_train_avg"
   ]
  },
  {
   "cell_type": "markdown",
   "metadata": {},
   "source": [
    "<h3>Prediction and R<sup>2</sup> value calculation</h3>"
   ]
  },
  {
   "cell_type": "code",
   "execution_count": 73,
   "metadata": {},
   "outputs": [],
   "source": [
    "lent = X_test.shape[0]\n",
    "R_up = 0\n",
    "R_down = 0\n",
    "d = []\n",
    "for i in range(lent):\n",
    "    y = m*X_test.iloc[i,0] + c\n",
    "    R_up+=(y-Y_train_avg)**2\n",
    "    R_down+=(Y_train.iloc[i,0]-Y_train_avg)**2\n",
    "    R_squared_error = R_up/R_down\n",
    "    d.append(y)"
   ]
  },
  {
   "cell_type": "markdown",
   "metadata": {},
   "source": [
    "<h3>Prediction CSV generate</h3>"
   ]
  },
  {
   "cell_type": "code",
   "execution_count": null,
   "metadata": {},
   "outputs": [],
   "source": [
    "dataframe_new.to_csv('out.csv', encoding='utf-8', index=False)"
   ]
  },
  {
   "cell_type": "markdown",
   "metadata": {},
   "source": [
    "<h3>Dataset and Prediction plot</h3>"
   ]
  },
  {
   "cell_type": "code",
   "execution_count": 89,
   "metadata": {},
   "outputs": [
    {
     "data": {
      "image/png": "[encoded data removed]",
      "text/plain": [
       "<Figure size 432x288 with 1 Axes>"
      ]
     },
     "metadata": {
      "needs_background": "light"
     },
     "output_type": "display_data"
    }
   ],
   "source": [
    "plt.scatter(X_train, Y_train, color='red')\n",
    "plt.xlabel('Cost of advertisement')\n",
    "plt.ylabel('Sale')\n",
    "plt.show()"
   ]
  },
  {
   "cell_type": "code",
   "execution_count": 88,
   "metadata": {},
   "outputs": [
    {
     "data": {
      "image/png": "[encoded data removed]",
      "text/plain": [
       "<Figure size 432x288 with 1 Axes>"
      ]
     },
     "metadata": {
      "needs_background": "light"
     },
     "output_type": "display_data"
    }
   ],
   "source": [
    "plt.scatter(X_test,Y_test,color='green')\n",
    "plt.plot(X_test,d, color='blue')\n",
    "dataframe_new = pd.DataFrame(d)\n",
    "plt.xlabel('Cost of advertisement')\n",
    "plt.ylabel('Sale')\n",
    "plt.show()"
   ]
  }
 ],
 "metadata": {
  "kernelspec": {
   "display_name": "Python 3",
   "language": "python",
   "name": "python3"
  },
  "language_info": {
   "codemirror_mode": {
    "name": "ipython",
    "version": 3
   },
   "file_extension": ".py",
   "mimetype": "text/x-python",
   "name": "python",
   "nbconvert_exporter": "python",
   "pygments_lexer": "ipython3",
   "version": "3.7.1"
  }
 },
 "nbformat": 4,
 "nbformat_minor": 2
}
