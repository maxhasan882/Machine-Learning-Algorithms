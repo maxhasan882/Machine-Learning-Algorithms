{
 "cells": [
  {
   "cell_type": "markdown",
   "metadata": {},
   "source": [
    "<h1 style=\"text-align: center; color:red\">Simple Linear Regression</h1>"
   ]
  },
  {
   "cell_type": "markdown",
   "metadata": {},
   "source": [
    "<h3>Import Library</h3> "
   ]
  },
  {
   "cell_type": "code",
   "execution_count": 1,
   "metadata": {},
   "outputs": [],
   "source": [
    "import pandas as pd\n",
    "import csv\n",
    "import matplotlib.pyplot as plt\n",
    "import random"
   ]
  },
  {
   "cell_type": "markdown",
   "metadata": {},
   "source": [
    "<h3>Import Dataset</h3>"
   ]
  },
  {
   "cell_type": "code",
   "execution_count": 2,
   "metadata": {},
   "outputs": [],
   "source": [
    "data = pd.read_csv('data.csv')"
   ]
  },
  {
   "cell_type": "markdown",
   "metadata": {},
   "source": [
    "<h3>Devide Dataset</h3>"
   ]
  },
  {
   "cell_type": "code",
   "execution_count": 3,
   "metadata": {},
   "outputs": [],
   "source": [
    "X = data.iloc[:,:1]\n",
    "Y = data.iloc[:,1:]\n",
    "X_train = X.iloc[:140]\n",
    "X_test = X.iloc[140:]\n",
    "Y_train = Y.iloc[:140]\n",
    "Y_test = Y.iloc[140:]"
   ]
  },
  {
   "cell_type": "markdown",
   "metadata": {},
   "source": [
    "<h3>Visualization Dataset</h3>"
   ]
  },
  {
   "cell_type": "code",
   "execution_count": 4,
   "metadata": {},
   "outputs": [
    {
     "data": {
      "image/png": "[encoded data removed]",
      "text/plain": [
       "<Figure size 432x288 with 1 Axes>"
      ]
     },
     "metadata": {
      "needs_background": "light"
     },
     "output_type": "display_data"
    }
   ],
   "source": [
    "plt.scatter(X_train, Y_train, color='blue')\n",
    "plt.xlabel('Cost of advertisement')\n",
    "plt.ylabel('Sale')\n",
    "plt.show()"
   ]
  },
  {
   "cell_type": "markdown",
   "metadata": {},
   "source": [
    "<h3>Hypothesis Calculation</h3>"
   ]
  },
  {
   "cell_type": "code",
   "execution_count": 5,
   "metadata": {},
   "outputs": [],
   "source": [
    "def Hypothesis(x,w0,w1):\n",
    "    hy = w0 + w1*x\n",
    "    return hy"
   ]
  },
  {
   "cell_type": "markdown",
   "metadata": {},
   "source": [
    "<h3>Cost Calculation</h3>"
   ]
  },
  {
   "cell_type": "code",
   "execution_count": 6,
   "metadata": {},
   "outputs": [],
   "source": [
    "def Cost(w0,w1):\n",
    "    sum1 = 0.0\n",
    "    for i in range(140):\n",
    "        sum1 += (Hypothesis(X_train.iloc[i,0],w0,w1) - Y_train.iloc[i,0])**2\n",
    "    \n",
    "    return (sum1/(2*140))"
   ]
  },
  {
   "cell_type": "markdown",
   "metadata": {},
   "source": [
    "<h3>Error Calculation</h3>"
   ]
  },
  {
   "cell_type": "code",
   "execution_count": 7,
   "metadata": {},
   "outputs": [],
   "source": [
    "def errorFun(w0,w1):\n",
    "    sum = 0.0\n",
    "    for i in range(140):\n",
    "        sum += Hypothesis(X_train.iloc[i,0], w0, w1) - Y_train.iloc[i,0]\n",
    "    return sum"
   ]
  },
  {
   "cell_type": "markdown",
   "metadata": {},
   "source": [
    "<h3>GredientDecent Algorithm</h3>"
   ]
  },
  {
   "cell_type": "code",
   "execution_count": 8,
   "metadata": {},
   "outputs": [],
   "source": [
    "def GredientDecent(w0,w1):\n",
    "    learningRate=0.001\n",
    "    prevError = errorFun(w0,w1)\n",
    "    for i in range(140):\n",
    "        x = X_train.iloc[i,0]\n",
    "        y = Y_train.iloc[i,0]\n",
    "        error = errorFun(w0,w1)\n",
    "        print(\"X = \", x, \" Y = \", y, \" Error = \", error)\n",
    "        w1 = w1 - ((error*learningRate)*x)/140.0\n",
    "        w0 = w0 - ((error*learningRate))/140.0\n",
    "        \n",
    "    return w0,w1"
   ]
  },
  {
   "cell_type": "markdown",
   "metadata": {},
   "source": [
    "<h3>Main Function</h3>"
   ]
  },
  {
   "cell_type": "code",
   "execution_count": 9,
   "metadata": {},
   "outputs": [
    {
     "name": "stdout",
     "output_type": "stream",
     "text": [
      "X =  230.1  Y =  22.1  Error =  -1980.7000000000005\n",
      "X =  44.5  Y =  10.4  Error =  63548.04098925003\n",
      "X =  17.2  Y =  9.3  Error =  -343095.07895044854\n",
      "X =  151.5  Y =  18.5  Error =  505698.1297174345\n",
      "X =  180.8  Y =  12.9  Error =  -10509879.981331093\n",
      "X =  8.7  Y =  7.2  Error =  262699915.27096096\n",
      "X =  57.5  Y =  11.8  Error =  -66159003.41162681\n",
      "X =  120.2  Y =  13.2  Error =  480847771.7334173\n",
      "X =  8.6  Y =  4.8  Error =  -7829526459.431158\n",
      "X =  199.8  Y =  10.6  Error =  1859238500.6888187\n",
      "X =  66.1  Y =  8.6  Error =  -51551561422.03154\n",
      "X =  214.7  Y =  17.4  Error =  438421671781.6064\n",
      "X =  23.8  Y =  9.2  Error =  -13095432837118.154\n",
      "X =  97.5  Y =  9.7  Error =  31728203972247.543\n",
      "X =  204.1  Y =  19.0  Error =  -413071470527439.1\n",
      "X =  195.4  Y =  22.4  Error =  1.1708708073727442e+16\n",
      "X =  67.8  Y =  12.5  Error =  -3.172431715791982e+17\n",
      "X =  281.4  Y =  24.4  Error =  2.775543059771967e+18\n",
      "X =  69.2  Y =  11.3  Error =  -1.0952094462531405e+20\n",
      "X =  147.3  Y =  14.6  Error =  9.802376442138247e+20\n",
      "X =  218.4  Y =  18.0  Error =  -1.978027178625532e+22\n",
      "X =  237.4  Y =  12.5  Error =  6.013491414989695e+23\n",
      "X =  13.2  Y =  5.6  Error =  -1.9924612354876528e+25\n",
      "X =  228.3  Y =  15.5  Error =  1.7908839322933663e+25\n",
      "X =  62.3  Y =  9.7  Error =  -5.6994581172177746e+26\n",
      "X =  262.9  Y =  12.0  Error =  4.535732784792546e+27\n",
      "X =  142.9  Y =  15.0  Error =  -1.6691246048800215e+29\n",
      "X =  240.1  Y =  15.9  Error =  3.2625456460245585e+30\n",
      "X =  248.8  Y =  18.9  Error =  -1.0936502421137062e+32\n",
      "X =  70.6  Y =  10.5  Error =  3.802864682183104e+33\n",
      "X =  292.9  Y =  21.4  Error =  -3.480197318196891e+34\n",
      "X =  112.9  Y =  11.9  Error =  1.4308029958333998e+36\n",
      "X =  97.2  Y =  9.6  Error =  -2.179570461912186e+37\n",
      "X =  265.6  Y =  17.4  Error =  2.8281953743840193e+38\n",
      "X =  95.7  Y =  9.5  Error =  -1.0517391143225809e+40\n",
      "X =  290.7  Y =  12.8  Error =  1.3420472438969211e+41\n",
      "X =  266.9  Y =  25.4  Error =  -5.4750686115562e+42\n",
      "X =  74.7  Y =  14.7  Error =  2.0462821188836627e+44\n",
      "X =  43.1  Y =  10.1  Error =  -1.993281877292988e+45\n",
      "X =  228.0  Y =  21.5  Error =  1.0360486196810458e+46\n",
      "X =  202.5  Y =  16.6  Error =  -3.2927386416117095e+47\n",
      "X =  177.0  Y =  17.1  Error =  9.257678748206895e+48\n",
      "X =  293.6  Y =  20.7  Error =  -2.263426078086913e+50\n",
      "X =  206.9  Y =  12.9  Error =  9.328334852106252e+51\n",
      "X =  25.1  Y =  8.5  Error =  -2.6817141342425606e+53\n",
      "X =  175.1  Y =  14.9  Error =  6.998610166124857e+53\n",
      "X =  89.7  Y =  10.6  Error =  -1.6919841687275993e+55\n",
      "X =  239.9  Y =  23.2  Error =  2.0130580455576436e+56\n",
      "X =  227.2  Y =  14.8  Error =  -6.742259319044999e+57\n",
      "X =  66.9  Y =  9.7  Error =  2.1350496833321585e+59\n",
      "X =  199.8  Y =  11.4  Error =  -1.8403162160341495e+60\n",
      "X =  100.4  Y =  10.7  Error =  5.1026898599451784e+61\n",
      "X =  216.4  Y =  22.6  Error =  -6.855979198512202e+62\n",
      "X =  182.6  Y =  21.2  Error =  2.0646034054586868e+64\n",
      "X =  262.7  Y =  20.2  Error =  -5.21401447515264e+65\n",
      "X =  198.9  Y =  23.7  Error =  1.9172292295638665e+67\n",
      "X =  7.3  Y =  5.5  Error =  -5.291139990004607e+68\n",
      "X =  136.2  Y =  13.2  Error =  2.675068100446573e+67\n",
      "X =  210.8  Y =  23.8  Error =  -4.971120514615424e+68\n",
      "X =  210.7  Y =  18.4  Error =  1.456974278051451e+70\n",
      "X =  53.5  Y =  8.1  Error =  -4.2681176363643356e+71\n",
      "X =  261.3  Y =  24.2  Error =  2.8566351285775134e+72\n",
      "X =  239.3  Y =  15.7  Error =  -1.0446545409576602e+74\n",
      "X =  102.7  Y =  14.0  Error =  3.4898103059229998e+75\n",
      "X =  131.1  Y =  18.0  Error =  -4.8043145364972866e+76\n",
      "X =  69.0  Y =  9.3  Error =  8.575654605580926e+77\n",
      "X =  31.5  Y =  9.5  Error =  -7.650748817232512e+78\n",
      "X =  139.3  Y =  13.4  Error =  2.7006473884309246e+79\n",
      "X =  237.4  Y =  18.9  Error =  -5.139023431219921e+80\n",
      "X =  216.8  Y =  22.3  Error =  1.702722140659444e+82\n",
      "X =  199.1  Y =  18.3  Error =  -5.13735448491352e+83\n",
      "X =  109.8  Y =  12.4  Error =  1.4192765025629795e+85\n",
      "X =  26.8  Y =  8.8  Error =  -2.098754418526754e+86\n",
      "X =  129.4  Y =  11.0  Error =  5.990201898726505e+86\n",
      "X =  213.4  Y =  17.0  Error =  -1.054604096750011e+88\n",
      "X =  16.9  Y =  8.7  Error =  3.1303375743130417e+89\n",
      "X =  27.5  Y =  6.9  Error =  -4.478879175483161e+89\n",
      "X =  120.5  Y =  14.2  Error =  1.3234248173707334e+90\n",
      "X =  5.4  Y =  5.3  Error =  -2.160608468310264e+91\n",
      "X =  116.0  Y =  11.0  Error =  -4.809838541728893e+90\n",
      "X =  76.4  Y =  11.8  Error =  7.541297751191308e+91\n",
      "X =  239.8  Y =  12.3  Error =  -7.530294997772321e+92\n",
      "X =  75.3  Y =  11.3  Error =  2.521010608576962e+94\n",
      "X =  68.4  Y =  13.6  Error =  -2.4774620410717515e+95\n",
      "X =  213.5  Y =  21.7  Error =  2.1888897399897555e+96\n",
      "X =  193.2  Y =  15.2  Error =  -6.500337652511055e+97\n",
      "X =  76.3  Y =  12.0  Error =  1.7406818677036635e+99\n",
      "X =  110.7  Y =  16.0  Error =  -1.7356395475033932e+100\n",
      "X =  88.3  Y =  12.9  Error =  2.589034854885676e+101\n",
      "X =  109.8  Y =  16.7  Error =  -3.0282212516832103e+102\n",
      "X =  134.3  Y =  11.2  Error =  4.477980661815923e+103\n",
      "X =  28.6  Y =  7.3  Error =  -8.199174755318799e+104\n",
      "X =  217.7  Y =  19.4  Error =  2.5523744042190986e+105\n",
      "X =  250.9  Y =  22.2  Error =  -7.733903101391413e+106\n",
      "X =  107.4  Y =  11.5  Error =  2.7126005812890987e+108\n",
      "X =  163.3  Y =  16.9  Error =  -3.917655757623003e+109\n",
      "X =  197.6  Y =  11.7  Error =  8.806677610311658e+110\n",
      "X =  184.9  Y =  15.5  Error =  -2.4139931157559603e+112\n",
      "X =  289.7  Y =  25.4  Error =  6.176200783163345e+113\n",
      "X =  135.2  Y =  17.2  Error =  -2.5107872804113983e+115\n",
      "X =  222.4  Y =  11.7  Error =  4.6297360762672355e+116\n",
      "X =  296.4  Y =  23.8  Error =  -1.4341329735065657e+118\n",
      "X =  280.2  Y =  14.8  Error =  5.96827487534816e+119\n",
      "X =  187.9  Y =  14.7  Error =  -2.3447415280045863e+121\n",
      "X =  238.2  Y =  20.7  Error =  6.100155177171009e+122\n",
      "X =  137.9  Y =  19.2  Error =  -2.028192098623929e+124\n",
      "X =  25.0  Y =  7.2  Error =  3.8185933780769154e+125\n",
      "X =  90.4  Y =  8.7  Error =  -9.910681788626378e+125\n",
      "X =  13.1  Y =  5.3  Error =  1.1891093687720435e+127\n",
      "X =  255.4  Y =  19.8  Error =  -1.0517107539838564e+127\n",
      "X =  225.8  Y =  13.4  Error =  3.756830182400913e+128\n",
      "X =  241.7  Y =  21.8  Error =  -1.182101456371668e+130\n",
      "X =  175.7  Y =  14.1  Error =  3.989759978135821e+131\n",
      "X =  209.6  Y =  15.9  Error =  -9.680062385032543e+132\n",
      "X =  78.2  Y =  14.6  Error =  2.820406208652806e+134\n",
      "X =  75.1  Y =  12.6  Error =  -2.8892819384712124e+135\n",
      "X =  139.2  Y =  12.2  Error =  2.8310636297315013e+136\n",
      "X =  76.4  Y =  9.4  Error =  -5.3831202766257034e+137\n",
      "X =  125.7  Y =  15.9  Error =  5.3752663041421075e+138\n",
      "X =  19.4  Y =  6.6  Error =  -9.177470331093065e+139\n",
      "X =  141.3  Y =  15.5  Error =  1.64298285981844e+140\n",
      "X =  18.8  Y =  7.0  Error =  -3.173652643576836e+141\n",
      "X =  224.0  Y =  11.6  Error =  5.407808895075616e+141\n",
      "X =  123.1  Y =  15.2  Error =  -1.6875932906506667e+143\n",
      "X =  229.5  Y =  19.7  Error =  2.818230589486216e+144\n",
      "X =  87.2  Y =  10.6  Error =  -9.017594578037922e+145\n",
      "X =  7.8  Y =  6.6  Error =  1.0404662940842564e+147\n",
      "X =  80.2  Y =  8.8  Error =  -1.27399895379147e+146\n",
      "X =  220.3  Y =  24.7  Error =  1.3417444851588089e+147\n",
      "X =  59.6  Y =  9.7  Error =  -4.115751899114815e+148\n",
      "X =  0.7  Y =  1.6  Error =  3.115620071878016e+149\n",
      "X =  265.2  Y =  12.7  Error =  2.7989406587221547e+149\n",
      "X =  8.4  Y =  5.7  Error =  -1.0392503052063925e+151\n",
      "X =  219.8  Y =  19.6  Error =  2.169019311996266e+150\n",
      "X =  36.9  Y =  10.8  Error =  -6.637794490509719e+151\n",
      "X =  48.3  Y =  11.6  Error =  2.8584317819995765e+152\n",
      "X =  25.6  Y =  9.5  Error =  -1.6994327372554994e+153\n",
      "X =  273.7  Y =  20.8  Error =  4.557266805533837e+153\n",
      "X =  43.0  Y =  9.6  Error =  -1.7478128773136392e+155\n",
      "X =  184.9  Y =  20.7  Error =  9.059482182301719e+155\n",
      "W0 =  -5.2445468484462985e+150 and W1 =  -1.1514990516923577e+153\n",
      "Cost =  inf\n"
     ]
    },
    {
     "name": "stderr",
     "output_type": "stream",
     "text": [
      "C:\\ProgramData\\Anaconda3\\lib\\site-packages\\ipykernel_launcher.py:4: RuntimeWarning: overflow encountered in double_scalars\n",
      "  after removing the cwd from sys.path.\n"
     ]
    }
   ],
   "source": [
    "if __name__ == '__main__':\n",
    "    w1 = 0.0\n",
    "    w0 = 0.0\n",
    "    t = 1\n",
    "    while(t!=2):\n",
    "        w0,w1=GredientDecent(w0,w1)\n",
    "        print(\"W0 = \", w0,  \"and W1 = \" , w1)\n",
    "        print(\"Cost = \", Cost(w0,w1))\n",
    "        t+=1\n",
    "    "
   ]
  }
 ],
 "metadata": {
  "kernelspec": {
   "display_name": "Python 3",
   "language": "python",
   "name": "python3"
  },
  "language_info": {
   "codemirror_mode": {
    "name": "ipython",
    "version": 3
   },
   "file_extension": ".py",
   "mimetype": "text/x-python",
   "name": "python",
   "nbconvert_exporter": "python",
   "pygments_lexer": "ipython3",
   "version": "3.7.1"
  }
 },
 "nbformat": 4,
 "nbformat_minor": 2
}
